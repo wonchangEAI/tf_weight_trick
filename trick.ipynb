{
 "cells": [
  {
   "cell_type": "markdown",
   "metadata": {},
   "source": [
    "# INITIALIZATION"
   ]
  },
  {
   "cell_type": "code",
   "execution_count": 1,
   "metadata": {},
   "outputs": [
    {
     "name": "stdout",
     "output_type": "stream",
     "text": [
      "Extracting ./tmp/data/train-images-idx3-ubyte.gz\n",
      "Extracting ./tmp/data/train-labels-idx1-ubyte.gz\n",
      "Extracting ./tmp/data/t10k-images-idx3-ubyte.gz\n",
      "Extracting ./tmp/data/t10k-labels-idx1-ubyte.gz\n"
     ]
    }
   ],
   "source": [
    "import numpy as np\n",
    "import tensorflow as tf\n",
    "\n",
    "# Import MNIST data\n",
    "from tensorflow.examples.tutorials.mnist import input_data\n",
    "mnist = input_data.read_data_sets(\"./tmp/data/\", one_hot=True)"
   ]
  },
  {
   "cell_type": "code",
   "execution_count": 2,
   "metadata": {},
   "outputs": [],
   "source": [
    "# Parameters\n",
    "learning_rate = 0.1\n",
    "num_steps = 500\n",
    "batch_size = 128\n",
    "display_step = 100\n",
    "\n",
    "# Network Parameters\n",
    "n_hidden_1 = 256 # 1st layer number of neurons\n",
    "n_hidden_2 = 256 # 2nd layer number of neurons\n",
    "num_input = 784 # MNIST data input (img shape: 28*28)\n",
    "num_classes = 10 # MNIST total classes (0-9 digits)\n",
    "\n",
    "# tf Graph input\n",
    "X = tf.placeholder(\"float\", [None, num_input])\n",
    "Y = tf.placeholder(\"float\", [None, num_classes])"
   ]
  },
  {
   "cell_type": "code",
   "execution_count": 3,
   "metadata": {},
   "outputs": [],
   "source": [
    "# Store layers weight & bias\n",
    "weights = {\n",
    "    'h1': tf.Variable(tf.random_normal([num_input, n_hidden_1])),\n",
    "    'h2': tf.Variable(tf.random_normal([n_hidden_1, n_hidden_2])),\n",
    "    'out': tf.Variable(tf.random_normal([n_hidden_2, num_classes]))\n",
    "}\n",
    "biases = {\n",
    "    'b1': tf.Variable(tf.random_normal([n_hidden_1])),\n",
    "    'b2': tf.Variable(tf.random_normal([n_hidden_2])),\n",
    "    'out': tf.Variable(tf.random_normal([num_classes]))\n",
    "}"
   ]
  },
  {
   "cell_type": "code",
   "execution_count": 4,
   "metadata": {},
   "outputs": [],
   "source": [
    "# Create model\n",
    "def neural_net(x):\n",
    "    # Hidden fully connected layer with 256 neurons\n",
    "    layer_1 = tf.add(tf.matmul(x, weights['h1']), biases['b1'])\n",
    "    # Hidden fully connected layer with 256 neurons\n",
    "    layer_2 = tf.add(tf.matmul(layer_1, weights['h2']), biases['b2'])\n",
    "    # Output fully connected layer with a neuron for each class\n",
    "    out_layer = tf.matmul(layer_2, weights['out']) + biases['out']\n",
    "    return out_layer"
   ]
  },
  {
   "cell_type": "code",
   "execution_count": 5,
   "metadata": {},
   "outputs": [],
   "source": [
    "# Construct model\n",
    "logits = neural_net(X)\n",
    "\n",
    "# Define loss and optimizer\n",
    "loss_op = tf.reduce_mean(tf.nn.softmax_cross_entropy_with_logits(\n",
    "    logits=logits, labels=Y))\n",
    "optimizer = tf.train.AdamOptimizer(learning_rate=learning_rate)\n",
    "train_op = optimizer.minimize(loss_op)"
   ]
  },
  {
   "cell_type": "code",
   "execution_count": 6,
   "metadata": {},
   "outputs": [],
   "source": [
    "# Evaluate model (with test logits, for dropout to be disabled)\n",
    "correct_pred = tf.equal(tf.argmax(logits, 1), tf.argmax(Y, 1))\n",
    "accuracy = tf.reduce_mean(tf.cast(correct_pred, tf.float32))"
   ]
  },
  {
   "cell_type": "code",
   "execution_count": 7,
   "metadata": {},
   "outputs": [],
   "source": [
    "# Initialize the variables (i.e. assign their default value)\n",
    "init = tf.global_variables_initializer()\n",
    "\n",
    "# Save and Restore\n",
    "saver = tf.train.Saver()"
   ]
  },
  {
   "cell_type": "markdown",
   "metadata": {},
   "source": [
    "# SAVE VARIABLES"
   ]
  },
  {
   "cell_type": "code",
   "execution_count": 8,
   "metadata": {},
   "outputs": [],
   "source": [
    "# Set value loading operations\n",
    "def param_value_load_ops(param_tensor_list):\n",
    "    \"\"\"\n",
    "\n",
    "    Args:\n",
    "        param_tensor_list: list of trainable parameters\n",
    "\n",
    "    Returns:\n",
    "        load_ops_list: list of ops\n",
    "        load_ph_list: list of placeholders\n",
    "    \"\"\"\n",
    "    load_ops_list = []\n",
    "    load_ph_list = []\n",
    "\n",
    "    # For each parameter\n",
    "    for param_tensor in param_tensor_list:\n",
    "        # Make a copy of placeholder and load it\n",
    "        param_load_ph = tf.placeholder(dtype=param_tensor.dtype,\n",
    "                                       shape=param_tensor.shape)\n",
    "        load_ph_list.append(param_load_ph)\n",
    "        # Load ops with placeholder assigned to it\n",
    "        load_ops_list.append(param_tensor.assign(param_load_ph))\n",
    "\n",
    "    return load_ops_list, load_ph_list"
   ]
  },
  {
   "cell_type": "code",
   "execution_count": 9,
   "metadata": {},
   "outputs": [
    {
     "name": "stdout",
     "output_type": "stream",
     "text": [
      "Step 1, Minibatch Loss= 10860.5312, Training Accuracy= 0.281\n",
      "Model saved in file: ./tmp/model.ckpt\n",
      "Step 100, Minibatch Loss= 384.9174, Training Accuracy= 0.859\n",
      "Model saved in file: ./tmp/model.ckpt\n",
      "Step 200, Minibatch Loss= 117.8154, Training Accuracy= 0.852\n",
      "Model saved in file: ./tmp/model.ckpt\n",
      "Step 300, Minibatch Loss= 69.2436, Training Accuracy= 0.859\n",
      "Model saved in file: ./tmp/model.ckpt\n",
      "Step 400, Minibatch Loss= 46.7813, Training Accuracy= 0.844\n",
      "Model saved in file: ./tmp/model.ckpt\n",
      "Step 500, Minibatch Loss= 52.6807, Training Accuracy= 0.898\n",
      "Model saved in file: ./tmp/model.ckpt\n",
      "Optimization Finished!\n",
      "('Testing Accuracy:', 0.85890001)\n"
     ]
    }
   ],
   "source": [
    "# Start training\n",
    "with tf.Session() as sess:\n",
    "    # Run the initializer\n",
    "    sess.run(init)\n",
    "    \n",
    "    # TODO: save initial weights and biases (using pickle?)\n",
    "    w_init = sess.run(weights)\n",
    "    b_init = sess.run(biases)\n",
    "    init_param_value_list = []\n",
    "    for key in ['h1', 'h2', 'out']:\n",
    "        init_param_value_list.append(w_init[key])\n",
    "    for key in ['b1', 'b2', 'out']:\n",
    "        init_param_value_list.append(b_init[key])\n",
    "    \n",
    "    for step in range(1, num_steps+1):\n",
    "        batch_x, batch_y = mnist.train.next_batch(batch_size)\n",
    "        # Run optimization op (backprop)\n",
    "        sess.run(train_op, feed_dict={X: batch_x, Y: batch_y})\n",
    "        if step % display_step == 0 or step == 1:\n",
    "            # Calculate batch loss and accuracy\n",
    "            loss, acc = sess.run([loss_op, accuracy], feed_dict={X: batch_x,\n",
    "                                                                 Y: batch_y})\n",
    "            print(\"Step \" + str(step) + \", Minibatch Loss= \" + \\\n",
    "                  \"{:.4f}\".format(loss) + \", Training Accuracy= \" + \\\n",
    "                  \"{:.3f}\".format(acc))\n",
    "            save_path = saver.save(sess, \"./tmp/model.ckpt\")\n",
    "            print(\"Model saved in file: %s\" % save_path)\n",
    "\n",
    "    print(\"Optimization Finished!\")\n",
    "\n",
    "    # TODO: save trained weights and biases (using pickle)\n",
    "    w_trnd = sess.run(weights)\n",
    "    b_trnd = sess.run(biases)\n",
    "    trnd_param_value_list = []\n",
    "    for key in ['h1', 'h2', 'out']:\n",
    "        trnd_param_value_list.append(w_trnd[key])\n",
    "    for key in ['b1', 'b2', 'out']:\n",
    "        trnd_param_value_list.append(b_trnd[key])\n",
    "\n",
    "    # Calculate accuracy for MNIST test images\n",
    "    print(\"Testing Accuracy:\", \\\n",
    "        sess.run(accuracy, feed_dict={X: mnist.test.images,\n",
    "                                      Y: mnist.test.labels}))\n",
    "    \n",
    "    # TODO: plot Accuracy for linear combiantion of initialized/trained weights and biases"
   ]
  },
  {
   "cell_type": "markdown",
   "metadata": {},
   "source": [
    "# RESTORE VARIABLES"
   ]
  },
  {
   "cell_type": "code",
   "execution_count": 10,
   "metadata": {},
   "outputs": [],
   "source": [
    "# Get list of trainable parameters\n",
    "param_tensor_list = tf.trainable_variables()"
   ]
  },
  {
   "cell_type": "code",
   "execution_count": 11,
   "metadata": {},
   "outputs": [],
   "source": [
    "# Build load operation\n",
    "load_ops_list, load_ph_list = param_value_load_ops(param_tensor_list)"
   ]
  },
  {
   "cell_type": "markdown",
   "metadata": {},
   "source": [
    "# DO LINEAR COMBINATION AND EVALUATE"
   ]
  },
  {
   "cell_type": "code",
   "execution_count": 26,
   "metadata": {},
   "outputs": [
    {
     "name": "stdout",
     "output_type": "stream",
     "text": [
      "('Testing Accuracy:', 0.098999999)\n",
      "('Testing Accuracy:', 0.15809999)\n",
      "('Testing Accuracy:', 0.2624)\n",
      "('Testing Accuracy:', 0.3854)\n",
      "('Testing Accuracy:', 0.49779999)\n",
      "('Testing Accuracy:', 0.57700002)\n",
      "('Testing Accuracy:', 0.63190001)\n",
      "('Testing Accuracy:', 0.67220002)\n",
      "('Testing Accuracy:', 0.70599997)\n",
      "('Testing Accuracy:', 0.7335)\n",
      "('Testing Accuracy:', 0.75550002)\n",
      "('Testing Accuracy:', 0.77630001)\n",
      "('Testing Accuracy:', 0.7924)\n",
      "('Testing Accuracy:', 0.81110001)\n",
      "('Testing Accuracy:', 0.8272)\n",
      "('Testing Accuracy:', 0.84289998)\n",
      "('Testing Accuracy:', 0.85519999)\n",
      "('Testing Accuracy:', 0.86470002)\n",
      "('Testing Accuracy:', 0.87050003)\n",
      "('Testing Accuracy:', 0.8689)\n",
      "('Testing Accuracy:', 0.85890001)\n",
      "('Testing Accuracy:', 0.82179999)\n",
      "('Testing Accuracy:', 0.74470001)\n",
      "('Testing Accuracy:', 0.6415)\n",
      "('Testing Accuracy:', 0.5323)\n",
      "('Testing Accuracy:', 0.4262)\n",
      "('Testing Accuracy:', 0.33450001)\n",
      "('Testing Accuracy:', 0.26190001)\n",
      "('Testing Accuracy:', 0.2042)\n",
      "('Testing Accuracy:', 0.162)\n",
      "('Testing Accuracy:', 0.13519999)\n",
      "('Testing Accuracy:', 0.1189)\n",
      "('Testing Accuracy:', 0.1112)\n",
      "('Testing Accuracy:', 0.1101)\n",
      "('Testing Accuracy:', 0.1111)\n",
      "('Testing Accuracy:', 0.1158)\n",
      "('Testing Accuracy:', 0.1223)\n",
      "('Testing Accuracy:', 0.12819999)\n",
      "('Testing Accuracy:', 0.13519999)\n",
      "('Testing Accuracy:', 0.1443)\n",
      "('Testing Accuracy:', 0.1534)\n"
     ]
    }
   ],
   "source": [
    "with tf.Session() as sess:\n",
    "    sess.run(init)\n",
    "    \n",
    "    # linearly combine init and trained parameters\n",
    "    alphas = np.arange(0.0,2.01,.05)\n",
    "    errors = []\n",
    "    for alpha in alphas:\n",
    "        feed_dict = {}\n",
    "        for load_ph, init_value, trnd_value in zip(load_ph_list, init_param_value_list, trnd_param_value_list):\n",
    "            # linearly combine values\n",
    "            feed_dict[load_ph] = init_value*(1.-alpha) + trnd_value*alpha\n",
    "\n",
    "        sess.run(load_ops_list,\n",
    "                 feed_dict=feed_dict)\n",
    "\n",
    "        # do eval by using the graph\n",
    "        # Calculate accuracy for MNIST test images\n",
    "        acc = sess.run(accuracy, feed_dict={X: mnist.test.images,\n",
    "                                            Y: mnist.test.labels})\n",
    "        print(\"Testing Accuracy:\", acc )\n",
    "        errors.append(1-acc)"
   ]
  },
  {
   "cell_type": "code",
   "execution_count": null,
   "metadata": {},
   "outputs": [],
   "source": []
  },
  {
   "cell_type": "markdown",
   "metadata": {},
   "source": [
    "# PLOT"
   ]
  },
  {
   "cell_type": "code",
   "execution_count": 20,
   "metadata": {},
   "outputs": [],
   "source": [
    "import matplotlib\n",
    "import matplotlib.pyplot as plt\n",
    "\n",
    "%matplotlib inline"
   ]
  },
  {
   "cell_type": "code",
   "execution_count": 31,
   "metadata": {},
   "outputs": [
    {
     "data": {
      "image/png": "[encoded data removed]",
      "text/plain": [
       "<matplotlib.figure.Figure at 0x1162ad4d0>"
      ]
     },
     "metadata": {},
     "output_type": "display_data"
    }
   ],
   "source": [
    "plt.plot(alphas, errors)\n",
    "\n",
    "plt.xlabel('alpha')\n",
    "plt.ylabel('error(%)')\n",
    "plt.title('The Long and Winding Road for MNIST')\n",
    "plt.grid(True)\n",
    "# plt.savefig(\"mnist_journey.png\")\n",
    "plt.show()"
   ]
  },
  {
   "cell_type": "markdown",
   "metadata": {},
   "source": [
    "# CHECK"
   ]
  },
  {
   "cell_type": "code",
   "execution_count": null,
   "metadata": {},
   "outputs": [],
   "source": []
  },
  {
   "cell_type": "code",
   "execution_count": null,
   "metadata": {},
   "outputs": [],
   "source": []
  },
  {
   "cell_type": "code",
   "execution_count": null,
   "metadata": {},
   "outputs": [],
   "source": []
  }
 ],
 "metadata": {
  "kernelspec": {
   "display_name": "Python 2",
   "language": "python",
   "name": "python2"
  },
  "language_info": {
   "codemirror_mode": {
    "name": "ipython",
    "version": 2
   },
   "file_extension": ".py",
   "mimetype": "text/x-python",
   "name": "python",
   "nbconvert_exporter": "python",
   "pygments_lexer": "ipython2",
   "version": "2.7.10"
  }
 },
 "nbformat": 4,
 "nbformat_minor": 2
}
